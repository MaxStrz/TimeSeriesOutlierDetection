{
 "cells": [
  {
   "cell_type": "code",
   "execution_count": 6,
   "id": "d4f4321e",
   "metadata": {},
   "outputs": [],
   "source": [
    "from models.MVPDetect import MVPDetect\n",
    "from utils.utils import TransformRawData, create_partitions"
   ]
  },
  {
   "cell_type": "code",
   "execution_count": 3,
   "id": "ed884e00",
   "metadata": {},
   "outputs": [],
   "source": [
    "analysis_name = 'exploration'"
   ]
  },
  {
   "cell_type": "code",
   "execution_count": 5,
   "id": "40d024f4",
   "metadata": {},
   "outputs": [],
   "source": [
    "instance = TransformRawData(analysis_name).run()"
   ]
  },
  {
   "cell_type": "code",
   "execution_count": 7,
   "id": "00e2e603",
   "metadata": {},
   "outputs": [],
   "source": [
    "df = instance.df_all"
   ]
  },
  {
   "cell_type": "code",
   "execution_count": 8,
   "id": "817459d5",
   "metadata": {},
   "outputs": [],
   "source": [
    "remainders = create_partitions(df)"
   ]
  },
  {
   "cell_type": "code",
   "execution_count": 9,
   "id": "f8a1294b",
   "metadata": {},
   "outputs": [
    {
     "data": {
      "text/plain": [
       "420"
      ]
     },
     "execution_count": 9,
     "metadata": {},
     "output_type": "execute_result"
    }
   ],
   "source": [
    "len(remainders)"
   ]
  },
  {
   "cell_type": "code",
   "execution_count": 10,
   "id": "7532cab3",
   "metadata": {},
   "outputs": [
    {
     "data": {
      "text/plain": [
       "27"
      ]
     },
     "execution_count": 10,
     "metadata": {},
     "output_type": "execute_result"
    }
   ],
   "source": [
    "list(remainders)[0]"
   ]
  },
  {
   "cell_type": "code",
   "execution_count": null,
   "id": "57eb925a",
   "metadata": {},
   "outputs": [],
   "source": []
  }
 ],
 "metadata": {
  "kernelspec": {
   "display_name": "Python anomenv",
   "language": "python",
   "name": "anomenv"
  },
  "language_info": {
   "codemirror_mode": {
    "name": "ipython",
    "version": 3
   },
   "file_extension": ".py",
   "mimetype": "text/x-python",
   "name": "python",
   "nbconvert_exporter": "python",
   "pygments_lexer": "ipython3",
   "version": "3.10.2"
  }
 },
 "nbformat": 4,
 "nbformat_minor": 5
}
