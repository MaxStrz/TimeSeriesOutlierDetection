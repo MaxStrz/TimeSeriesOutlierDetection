{
 "cells": [
  {
   "cell_type": "code",
   "execution_count": 70,
   "id": "d99d3154",
   "metadata": {},
   "outputs": [],
   "source": [
    "from utils.utils import TransformRawData\n",
    "from models.MedianLevelShift import MLS, est_pred_agg"
   ]
  },
  {
   "cell_type": "code",
   "execution_count": 2,
   "id": "60d7ff7f",
   "metadata": {},
   "outputs": [],
   "source": [
    "analysis_name = \"exploration\""
   ]
  },
  {
   "cell_type": "code",
   "execution_count": 3,
   "id": "e3c2bbdf",
   "metadata": {},
   "outputs": [],
   "source": [
    "instance = TransformRawData(analysis_name).run()"
   ]
  },
  {
   "cell_type": "code",
   "execution_count": 71,
   "id": "33801911",
   "metadata": {},
   "outputs": [],
   "source": [
    "df = instance.df_all"
   ]
  },
  {
   "cell_type": "code",
   "execution_count": 78,
   "id": "ddf975cd",
   "metadata": {},
   "outputs": [],
   "source": [
    "group = df.groupby(level=[0, 1, 2])\n",
    "model = MLS()\n",
    "df_scores = est_pred_agg(group, df.columns, model)"
   ]
  },
  {
   "cell_type": "code",
   "execution_count": 79,
   "id": "b729f573",
   "metadata": {},
   "outputs": [
    {
     "data": {
      "text/html": [
       "<div>\n",
       "<style scoped>\n",
       "    .dataframe tbody tr th:only-of-type {\n",
       "        vertical-align: middle;\n",
       "    }\n",
       "\n",
       "    .dataframe tbody tr th {\n",
       "        vertical-align: top;\n",
       "    }\n",
       "\n",
       "    .dataframe thead th {\n",
       "        text-align: right;\n",
       "    }\n",
       "</style>\n",
       "<table border=\"1\" class=\"dataframe\">\n",
       "  <thead>\n",
       "    <tr style=\"text-align: right;\">\n",
       "      <th></th>\n",
       "      <th></th>\n",
       "      <th></th>\n",
       "      <th>sensor_1</th>\n",
       "      <th>sensor_2</th>\n",
       "      <th>sensor_3</th>\n",
       "      <th>sensor_4</th>\n",
       "    </tr>\n",
       "    <tr>\n",
       "      <th>car_id</th>\n",
       "      <th>component_id</th>\n",
       "      <th>component_part_id</th>\n",
       "      <th></th>\n",
       "      <th></th>\n",
       "      <th></th>\n",
       "      <th></th>\n",
       "    </tr>\n",
       "  </thead>\n",
       "  <tbody>\n",
       "    <tr>\n",
       "      <th rowspan=\"11\" valign=\"top\">215143</th>\n",
       "      <th rowspan=\"5\" valign=\"top\">1437</th>\n",
       "      <th>bp11</th>\n",
       "      <td>1.758894</td>\n",
       "      <td>1.619293</td>\n",
       "      <td>2.536785</td>\n",
       "      <td>1.743625</td>\n",
       "    </tr>\n",
       "    <tr>\n",
       "      <th>bp12</th>\n",
       "      <td>1.599022</td>\n",
       "      <td>1.587667</td>\n",
       "      <td>1.828240</td>\n",
       "      <td>1.618533</td>\n",
       "    </tr>\n",
       "    <tr>\n",
       "      <th>bp13</th>\n",
       "      <td>1.592327</td>\n",
       "      <td>1.477357</td>\n",
       "      <td>2.194491</td>\n",
       "      <td>1.551519</td>\n",
       "    </tr>\n",
       "    <tr>\n",
       "      <th>bp14</th>\n",
       "      <td>1.677608</td>\n",
       "      <td>1.494947</td>\n",
       "      <td>2.098385</td>\n",
       "      <td>1.616639</td>\n",
       "    </tr>\n",
       "    <tr>\n",
       "      <th>bp21</th>\n",
       "      <td>1.696008</td>\n",
       "      <td>1.320539</td>\n",
       "      <td>1.343026</td>\n",
       "      <td>1.446753</td>\n",
       "    </tr>\n",
       "    <tr>\n",
       "      <th>...</th>\n",
       "      <th>...</th>\n",
       "      <td>...</td>\n",
       "      <td>...</td>\n",
       "      <td>...</td>\n",
       "      <td>...</td>\n",
       "    </tr>\n",
       "    <tr>\n",
       "      <th rowspan=\"5\" valign=\"top\">6473</th>\n",
       "      <th>bp44</th>\n",
       "      <td>2.231044</td>\n",
       "      <td>3.143891</td>\n",
       "      <td>7.878621</td>\n",
       "      <td>2.606327</td>\n",
       "    </tr>\n",
       "    <tr>\n",
       "      <th>sp11</th>\n",
       "      <td>1.409226</td>\n",
       "      <td>1.444461</td>\n",
       "      <td>1.723092</td>\n",
       "      <td>1.663069</td>\n",
       "    </tr>\n",
       "    <tr>\n",
       "      <th>sp12</th>\n",
       "      <td>1.472094</td>\n",
       "      <td>1.498269</td>\n",
       "      <td>5.070529</td>\n",
       "      <td>1.704424</td>\n",
       "    </tr>\n",
       "    <tr>\n",
       "      <th>sp21</th>\n",
       "      <td>1.777268</td>\n",
       "      <td>1.481235</td>\n",
       "      <td>1.260338</td>\n",
       "      <td>1.322736</td>\n",
       "    </tr>\n",
       "    <tr>\n",
       "      <th>sp22</th>\n",
       "      <td>1.903063</td>\n",
       "      <td>1.802783</td>\n",
       "      <td>1.407681</td>\n",
       "      <td>1.547809</td>\n",
       "    </tr>\n",
       "  </tbody>\n",
       "</table>\n",
       "<p>420 rows × 4 columns</p>\n",
       "</div>"
      ],
      "text/plain": [
       "                                       sensor_1  sensor_2  sensor_3  sensor_4\n",
       "car_id component_id component_part_id                                        \n",
       "215143 1437         bp11               1.758894  1.619293  2.536785  1.743625\n",
       "                    bp12               1.599022  1.587667  1.828240  1.618533\n",
       "                    bp13               1.592327  1.477357  2.194491  1.551519\n",
       "                    bp14               1.677608  1.494947  2.098385  1.616639\n",
       "                    bp21               1.696008  1.320539  1.343026  1.446753\n",
       "...                                         ...       ...       ...       ...\n",
       "       6473         bp44               2.231044  3.143891  7.878621  2.606327\n",
       "                    sp11               1.409226  1.444461  1.723092  1.663069\n",
       "                    sp12               1.472094  1.498269  5.070529  1.704424\n",
       "                    sp21               1.777268  1.481235  1.260338  1.322736\n",
       "                    sp22               1.903063  1.802783  1.407681  1.547809\n",
       "\n",
       "[420 rows x 4 columns]"
      ]
     },
     "execution_count": 79,
     "metadata": {},
     "output_type": "execute_result"
    }
   ],
   "source": [
    "df_scores"
   ]
  },
  {
   "cell_type": "code",
   "execution_count": null,
   "id": "8d5d5dc6",
   "metadata": {},
   "outputs": [],
   "source": []
  }
 ],
 "metadata": {
  "kernelspec": {
   "display_name": "Python anomenv",
   "language": "python",
   "name": "anomenv"
  },
  "language_info": {
   "codemirror_mode": {
    "name": "ipython",
    "version": 3
   },
   "file_extension": ".py",
   "mimetype": "text/x-python",
   "name": "python",
   "nbconvert_exporter": "python",
   "pygments_lexer": "ipython3",
   "version": "3.10.2"
  }
 },
 "nbformat": 4,
 "nbformat_minor": 5
}
