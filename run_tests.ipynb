{
 "cells": [
  {
   "cell_type": "code",
   "execution_count": 1,
   "id": "c67a28b7",
   "metadata": {},
   "outputs": [
    {
     "data": {
      "application/vnd.jupyter.widget-view+json": {
       "model_id": "acfe8c27d51644839b21ab2f390948a2",
       "version_major": 2,
       "version_minor": 0
      },
      "text/plain": [
       "0it [00:00, ?it/s]"
      ]
     },
     "metadata": {},
     "output_type": "display_data"
    },
    {
     "name": "stdout",
     "output_type": "stream",
     "text": [
      "MVPDetect tested successfully\n"
     ]
    }
   ],
   "source": [
    "#import test.MLS_test\n",
    "\n",
    "#import test.hbos_test\n",
    "\n",
    "import test.MVPDetect_test"
   ]
  },
  {
   "cell_type": "code",
   "execution_count": null,
   "id": "b92d81dc",
   "metadata": {},
   "outputs": [],
   "source": []
  }
 ],
 "metadata": {
  "kernelspec": {
   "display_name": "Python anomenv",
   "language": "python",
   "name": "anomenv"
  },
  "language_info": {
   "codemirror_mode": {
    "name": "ipython",
    "version": 3
   },
   "file_extension": ".py",
   "mimetype": "text/x-python",
   "name": "python",
   "nbconvert_exporter": "python",
   "pygments_lexer": "ipython3",
   "version": "3.10.2"
  }
 },
 "nbformat": 4,
 "nbformat_minor": 5
}
