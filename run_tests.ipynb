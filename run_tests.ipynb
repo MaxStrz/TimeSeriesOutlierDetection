{
 "cells": [
  {
   "cell_type": "code",
   "execution_count": 1,
   "id": "9e2e4852",
   "metadata": {},
   "outputs": [
    {
     "name": "stdout",
     "output_type": "stream",
     "text": [
      "MedianLevelShift tested successfully\n",
      "HBOSAgg tested successfully\n"
     ]
    },
    {
     "data": {
      "application/vnd.jupyter.widget-view+json": {
       "model_id": "8e8067620d234a88b702d22fbbcf5cea",
       "version_major": 2,
       "version_minor": 0
      },
      "text/plain": [
       "0it [00:00, ?it/s]"
      ]
     },
     "metadata": {},
     "output_type": "display_data"
    },
    {
     "name": "stdout",
     "output_type": "stream",
     "text": [
      "MVPDetect tested successfully\n"
     ]
    }
   ],
   "source": [
    "import run_tests"
   ]
  },
  {
   "cell_type": "markdown",
   "id": "0caeac03",
   "metadata": {},
   "source": [
    "### Unittest"
   ]
  },
  {
   "cell_type": "code",
   "execution_count": 6,
   "id": "b251e3e9",
   "metadata": {},
   "outputs": [],
   "source": [
    "import unittest\n",
    "import test.MVPDetect_unittest as MVPDetect_unittest"
   ]
  },
  {
   "cell_type": "code",
   "execution_count": 8,
   "id": "62ef3d9f",
   "metadata": {},
   "outputs": [
    {
     "name": "stderr",
     "output_type": "stream",
     "text": [
      "test_fit_predict (test.MVPDetect_unittest.TestMVPDetect) ... "
     ]
    },
    {
     "data": {
      "application/vnd.jupyter.widget-view+json": {
       "model_id": "7f65f757a17641c3989626e728eb2195",
       "version_major": 2,
       "version_minor": 0
      },
      "text/plain": [
       "0it [00:00, ?it/s]"
      ]
     },
     "metadata": {},
     "output_type": "display_data"
    },
    {
     "name": "stderr",
     "output_type": "stream",
     "text": [
      "ok\n",
      "\n",
      "----------------------------------------------------------------------\n",
      "Ran 1 test in 1.212s\n",
      "\n",
      "OK\n"
     ]
    },
    {
     "data": {
      "text/plain": [
       "<unittest.runner.TextTestResult run=1 errors=0 failures=0>"
      ]
     },
     "execution_count": 8,
     "metadata": {},
     "output_type": "execute_result"
    }
   ],
   "source": [
    "# Load unittests and run them\n",
    "loader = unittest.TestLoader()\n",
    "suite = loader.loadTestsFromModule(MVPDetect_unittest)\n",
    "runner = unittest.TextTestRunner(verbosity=2)\n",
    "runner.run(suite)"
   ]
  },
  {
   "cell_type": "markdown",
   "id": "aa751d3d",
   "metadata": {},
   "source": [
    "### pytest"
   ]
  },
  {
   "cell_type": "code",
   "execution_count": null,
   "id": "735eabf3",
   "metadata": {},
   "outputs": [],
   "source": []
  }
 ],
 "metadata": {
  "kernelspec": {
   "display_name": "Python anomenv",
   "language": "python",
   "name": "anomenv"
  },
  "language_info": {
   "codemirror_mode": {
    "name": "ipython",
    "version": 3
   },
   "file_extension": ".py",
   "mimetype": "text/x-python",
   "name": "python",
   "nbconvert_exporter": "python",
   "pygments_lexer": "ipython3",
   "version": "3.10.2"
  }
 },
 "nbformat": 4,
 "nbformat_minor": 5
}
