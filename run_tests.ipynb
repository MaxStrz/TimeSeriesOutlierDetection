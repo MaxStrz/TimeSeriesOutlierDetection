{
 "cells": [
  {
   "cell_type": "code",
   "execution_count": 5,
   "id": "7697ada6",
   "metadata": {},
   "outputs": [],
   "source": [
    "#import test.MLS_test\n",
    "\n",
    "#import test.hbos_test\n",
    "\n",
    "import test.MVPDetect_test"
   ]
  },
  {
   "cell_type": "code",
   "execution_count": null,
   "id": "1d550d80",
   "metadata": {},
   "outputs": [],
   "source": []
  },
  {
   "cell_type": "code",
   "execution_count": null,
   "id": "023c228c",
   "metadata": {},
   "outputs": [],
   "source": []
  }
 ],
 "metadata": {
  "kernelspec": {
   "display_name": "Python anomenv",
   "language": "python",
   "name": "anomenv"
  },
  "language_info": {
   "codemirror_mode": {
    "name": "ipython",
    "version": 3
   },
   "file_extension": ".py",
   "mimetype": "text/x-python",
   "name": "python",
   "nbconvert_exporter": "python",
   "pygments_lexer": "ipython3",
   "version": "3.10.2"
  }
 },
 "nbformat": 4,
 "nbformat_minor": 5
}
